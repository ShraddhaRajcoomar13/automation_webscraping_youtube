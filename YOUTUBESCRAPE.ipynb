{
 "cells": [
  {
   "cell_type": "code",
   "execution_count": 1,
   "id": "9f5e6ac0",
   "metadata": {},
   "outputs": [
    {
     "name": "stderr",
     "output_type": "stream",
     "text": [
      "C:\\Users\\shraDDhar\\AppData\\Local\\Temp\\ipykernel_78828\\2071549875.py:15: DeprecationWarning: executable_path has been deprecated, please pass in a Service object\n",
      "  driver = webdriver.Chrome(options=options,executable_path=r'C:\\Users\\shraDDhar\\Downloads\\chromedriver.exe')\n",
      "C:\\Users\\shraDDhar\\AppData\\Local\\Temp\\ipykernel_78828\\2071549875.py:28: FutureWarning: The frame.append method is deprecated and will be removed from pandas in a future version. Use pandas.concat instead.\n",
      "  df.append(prid)\n",
      "C:\\Users\\shraDDhar\\AppData\\Local\\Temp\\ipykernel_78828\\2071549875.py:28: FutureWarning: The frame.append method is deprecated and will be removed from pandas in a future version. Use pandas.concat instead.\n",
      "  df.append(prid)\n",
      "C:\\Users\\shraDDhar\\AppData\\Local\\Temp\\ipykernel_78828\\2071549875.py:28: FutureWarning: The frame.append method is deprecated and will be removed from pandas in a future version. Use pandas.concat instead.\n",
      "  df.append(prid)\n"
     ]
    }
   ],
   "source": [
    "import time\n",
    "import re\n",
    "from selenium import webdriver\n",
    "from selenium.webdriver.common.keys import Keys\n",
    "import sys\n",
    "from selenium.webdriver.common.by import By\n",
    "import pandas as pd\n",
    "url1 = \"https://www.youtube.com/\"\n",
    "\n",
    "# To block the notifications\n",
    "options = webdriver.ChromeOptions()\n",
    "prefs = {\"profile.default_content_setting_values.notifications\" : 2}\n",
    "options.add_experimental_option(\"prefs\",prefs)\n",
    "\n",
    "driver = webdriver.Chrome(options=options,executable_path=r'C:\\Users\\shraDDhar\\Downloads\\chromedriver.exe')\n",
    "driver.get(url1)\n",
    "time.sleep(10)\n",
    "p= driver.find_element(By.XPATH,'/html/body/ytd-app/div[1]/div/ytd-masthead/div[3]/div[2]/ytd-searchbox/form/div[1]/div[1]/input')\n",
    "p.send_keys('kitchen technology')\n",
    "#search-icon-legacy\n",
    "po= driver.find_element(By.CSS_SELECTOR,'#search-icon-legacy')\n",
    "po.click()\n",
    "df=pd.DataFrame()\n",
    "for i in range(10):\n",
    "    pri= driver.find_elements(By.CSS_SELECTOR,'#video-title')\n",
    "    prid=[elem.get_attribute('href') for elem in pri]\n",
    "    time.sleep(5)\n",
    "    df.append(prid)\n",
    "df=df.T"
   ]
  },
  {
   "cell_type": "code",
   "execution_count": 2,
   "id": "19ee504c",
   "metadata": {},
   "outputs": [],
   "source": [
    "prid=[i for i in prid if i!=None]"
   ]
  },
  {
   "cell_type": "code",
   "execution_count": 3,
   "id": "225639ca",
   "metadata": {},
   "outputs": [
    {
     "data": {
      "text/plain": [
       "['https://www.youtube.com/watch?v=XnUTXfd46pg',\n",
       " 'https://www.youtube.com/watch?v=JVeMgvTsBVM',\n",
       " 'https://www.youtube.com/watch?v=NzSl631j0F8',\n",
       " 'https://www.youtube.com/watch?v=BqbC-TaXjOg']"
      ]
     },
     "execution_count": 3,
     "metadata": {},
     "output_type": "execute_result"
    }
   ],
   "source": [
    "prid"
   ]
  },
  {
   "cell_type": "code",
   "execution_count": null,
   "id": "8b6e7519",
   "metadata": {},
   "outputs": [],
   "source": [
    "from youtube_comment_scraper_python import *\n",
    "pop=pd.DataFrame()\n",
    "for i in prid:\n",
    "    youtube.open(i)\n",
    "    response=youtube.video_comments()\n",
    "    data=response['body']\n",
    "    g=pd.DataFrame(data)\n",
    "    pop=pd.concat([pop,g])"
   ]
  },
  {
   "cell_type": "code",
   "execution_count": 15,
   "id": "f79de875",
   "metadata": {},
   "outputs": [
    {
     "data": {
      "text/html": [
       "<div>\n",
       "<style scoped>\n",
       "    .dataframe tbody tr th:only-of-type {\n",
       "        vertical-align: middle;\n",
       "    }\n",
       "\n",
       "    .dataframe tbody tr th {\n",
       "        vertical-align: top;\n",
       "    }\n",
       "\n",
       "    .dataframe thead th {\n",
       "        text-align: right;\n",
       "    }\n",
       "</style>\n",
       "<table border=\"1\" class=\"dataframe\">\n",
       "  <thead>\n",
       "    <tr style=\"text-align: right;\">\n",
       "      <th></th>\n",
       "    </tr>\n",
       "  </thead>\n",
       "  <tbody>\n",
       "  </tbody>\n",
       "</table>\n",
       "</div>"
      ],
      "text/plain": [
       "Empty DataFrame\n",
       "Columns: []\n",
       "Index: []"
      ]
     },
     "execution_count": 15,
     "metadata": {},
     "output_type": "execute_result"
    }
   ],
   "source": [
    "pop"
   ]
  },
  {
   "cell_type": "code",
   "execution_count": 6,
   "id": "1a917b07",
   "metadata": {},
   "outputs": [],
   "source": [
    "p=pd.DataFrame(pop[0])"
   ]
  },
  {
   "cell_type": "code",
   "execution_count": 7,
   "id": "12efac05",
   "metadata": {},
   "outputs": [
    {
     "data": {
      "text/html": [
       "<div>\n",
       "<style scoped>\n",
       "    .dataframe tbody tr th:only-of-type {\n",
       "        vertical-align: middle;\n",
       "    }\n",
       "\n",
       "    .dataframe tbody tr th {\n",
       "        vertical-align: top;\n",
       "    }\n",
       "\n",
       "    .dataframe thead th {\n",
       "        text-align: right;\n",
       "    }\n",
       "</style>\n",
       "<table border=\"1\" class=\"dataframe\">\n",
       "  <thead>\n",
       "    <tr style=\"text-align: right;\">\n",
       "      <th></th>\n",
       "      <th>Comment</th>\n",
       "      <th>Likes</th>\n",
       "      <th>Time</th>\n",
       "      <th>user</th>\n",
       "    </tr>\n",
       "  </thead>\n",
       "  <tbody>\n",
       "    <tr>\n",
       "      <th>0</th>\n",
       "      <td>Amei parabéns</td>\n",
       "      <td>2</td>\n",
       "      <td>2 years ago</td>\n",
       "      <td></td>\n",
       "    </tr>\n",
       "    <tr>\n",
       "      <th>1</th>\n",
       "      <td>For those engineer designers watching, I want ...</td>\n",
       "      <td>4</td>\n",
       "      <td>1 year ago</td>\n",
       "      <td></td>\n",
       "    </tr>\n",
       "    <tr>\n",
       "      <th>2</th>\n",
       "      <td>who is the vender with the extendable table?</td>\n",
       "      <td>1</td>\n",
       "      <td>1 year ago</td>\n",
       "      <td></td>\n",
       "    </tr>\n",
       "  </tbody>\n",
       "</table>\n",
       "</div>"
      ],
      "text/plain": [
       "                                             Comment Likes         Time user\n",
       "0                                      Amei parabéns     2  2 years ago     \n",
       "1  For those engineer designers watching, I want ...     4   1 year ago     \n",
       "2       who is the vender with the extendable table?     1   1 year ago     "
      ]
     },
     "execution_count": 7,
     "metadata": {},
     "output_type": "execute_result"
    }
   ],
   "source": [
    "p"
   ]
  },
  {
   "cell_type": "code",
   "execution_count": 8,
   "id": "767184ac",
   "metadata": {},
   "outputs": [
    {
     "name": "stderr",
     "output_type": "stream",
     "text": [
      "[nltk_data] Downloading package vader_lexicon to\n",
      "[nltk_data]     C:\\Users\\shraDDhar\\AppData\\Roaming\\nltk_data...\n",
      "[nltk_data]   Package vader_lexicon is already up-to-date!\n"
     ]
    },
    {
     "data": {
      "text/plain": [
       "True"
      ]
     },
     "execution_count": 8,
     "metadata": {},
     "output_type": "execute_result"
    }
   ],
   "source": [
    "import snscrape.modules.twitter as sntwitter\n",
    "import pandas as pd\n",
    "from nltk.sentiment.vader import SentimentIntensityAnalyzer\n",
    "import nltk\n",
    "nltk.download('vader_lexicon')"
   ]
  },
  {
   "cell_type": "code",
   "execution_count": 9,
   "id": "002e1c6f",
   "metadata": {},
   "outputs": [],
   "source": [
    "sid = SentimentIntensityAnalyzer()\n",
    "p['scores'] =p['Comment'].apply(lambda review: sid.polarity_scores(review))\n",
    "p['compound']  = p['scores'].apply(lambda score_dict: score_dict['compound'])"
   ]
  },
  {
   "cell_type": "code",
   "execution_count": 10,
   "id": "0f519532",
   "metadata": {},
   "outputs": [
    {
     "data": {
      "text/html": [
       "<div>\n",
       "<style scoped>\n",
       "    .dataframe tbody tr th:only-of-type {\n",
       "        vertical-align: middle;\n",
       "    }\n",
       "\n",
       "    .dataframe tbody tr th {\n",
       "        vertical-align: top;\n",
       "    }\n",
       "\n",
       "    .dataframe thead th {\n",
       "        text-align: right;\n",
       "    }\n",
       "</style>\n",
       "<table border=\"1\" class=\"dataframe\">\n",
       "  <thead>\n",
       "    <tr style=\"text-align: right;\">\n",
       "      <th></th>\n",
       "      <th>Comment</th>\n",
       "      <th>Likes</th>\n",
       "      <th>Time</th>\n",
       "      <th>user</th>\n",
       "      <th>scores</th>\n",
       "      <th>compound</th>\n",
       "    </tr>\n",
       "  </thead>\n",
       "  <tbody>\n",
       "    <tr>\n",
       "      <th>0</th>\n",
       "      <td>Amei parabéns</td>\n",
       "      <td>2</td>\n",
       "      <td>2 years ago</td>\n",
       "      <td></td>\n",
       "      <td>{'neg': 0.0, 'neu': 1.0, 'pos': 0.0, 'compound...</td>\n",
       "      <td>0.0000</td>\n",
       "    </tr>\n",
       "    <tr>\n",
       "      <th>1</th>\n",
       "      <td>For those engineer designers watching, I want ...</td>\n",
       "      <td>4</td>\n",
       "      <td>1 year ago</td>\n",
       "      <td></td>\n",
       "      <td>{'neg': 0.0, 'neu': 0.881, 'pos': 0.119, 'comp...</td>\n",
       "      <td>0.2732</td>\n",
       "    </tr>\n",
       "    <tr>\n",
       "      <th>2</th>\n",
       "      <td>who is the vender with the extendable table?</td>\n",
       "      <td>1</td>\n",
       "      <td>1 year ago</td>\n",
       "      <td></td>\n",
       "      <td>{'neg': 0.0, 'neu': 1.0, 'pos': 0.0, 'compound...</td>\n",
       "      <td>0.0000</td>\n",
       "    </tr>\n",
       "  </tbody>\n",
       "</table>\n",
       "</div>"
      ],
      "text/plain": [
       "                                             Comment Likes         Time user  \\\n",
       "0                                      Amei parabéns     2  2 years ago        \n",
       "1  For those engineer designers watching, I want ...     4   1 year ago        \n",
       "2       who is the vender with the extendable table?     1   1 year ago        \n",
       "\n",
       "                                              scores  compound  \n",
       "0  {'neg': 0.0, 'neu': 1.0, 'pos': 0.0, 'compound...    0.0000  \n",
       "1  {'neg': 0.0, 'neu': 0.881, 'pos': 0.119, 'comp...    0.2732  \n",
       "2  {'neg': 0.0, 'neu': 1.0, 'pos': 0.0, 'compound...    0.0000  "
      ]
     },
     "execution_count": 10,
     "metadata": {},
     "output_type": "execute_result"
    }
   ],
   "source": [
    "p"
   ]
  },
  {
   "cell_type": "code",
   "execution_count": 11,
   "id": "d98bc6a3",
   "metadata": {},
   "outputs": [
    {
     "ename": "ValueError",
     "evalue": "After pruning, no terms remain. Try a lower min_df or a higher max_df.",
     "output_type": "error",
     "traceback": [
      "\u001b[1;31m---------------------------------------------------------------------------\u001b[0m",
      "\u001b[1;31mValueError\u001b[0m                                Traceback (most recent call last)",
      "Input \u001b[1;32mIn [11]\u001b[0m, in \u001b[0;36m<cell line: 4>\u001b[1;34m()\u001b[0m\n\u001b[0;32m      1\u001b[0m \u001b[38;5;28;01mfrom\u001b[39;00m \u001b[38;5;21;01msklearn\u001b[39;00m\u001b[38;5;21;01m.\u001b[39;00m\u001b[38;5;21;01mfeature_extraction\u001b[39;00m\u001b[38;5;21;01m.\u001b[39;00m\u001b[38;5;21;01mtext\u001b[39;00m \u001b[38;5;28;01mimport\u001b[39;00m CountVectorizer\n\u001b[0;32m      3\u001b[0m count_vect \u001b[38;5;241m=\u001b[39m CountVectorizer(max_df\u001b[38;5;241m=\u001b[39m\u001b[38;5;241m0.8\u001b[39m, min_df\u001b[38;5;241m=\u001b[39m\u001b[38;5;241m2\u001b[39m, stop_words\u001b[38;5;241m=\u001b[39m\u001b[38;5;124m'\u001b[39m\u001b[38;5;124menglish\u001b[39m\u001b[38;5;124m'\u001b[39m)\n\u001b[1;32m----> 4\u001b[0m doc_term_matrix \u001b[38;5;241m=\u001b[39m \u001b[43mcount_vect\u001b[49m\u001b[38;5;241;43m.\u001b[39;49m\u001b[43mfit_transform\u001b[49m\u001b[43m(\u001b[49m\u001b[43mp\u001b[49m\u001b[43m[\u001b[49m\u001b[38;5;124;43m'\u001b[39;49m\u001b[38;5;124;43mComment\u001b[39;49m\u001b[38;5;124;43m'\u001b[39;49m\u001b[43m]\u001b[49m\u001b[38;5;241;43m.\u001b[39;49m\u001b[43mvalues\u001b[49m\u001b[38;5;241;43m.\u001b[39;49m\u001b[43mastype\u001b[49m\u001b[43m(\u001b[49m\u001b[38;5;124;43m'\u001b[39;49m\u001b[38;5;124;43mU\u001b[39;49m\u001b[38;5;124;43m'\u001b[39;49m\u001b[43m)\u001b[49m\u001b[43m)\u001b[49m\n\u001b[0;32m      5\u001b[0m \u001b[38;5;28;01mfrom\u001b[39;00m \u001b[38;5;21;01msklearn\u001b[39;00m\u001b[38;5;21;01m.\u001b[39;00m\u001b[38;5;21;01mdecomposition\u001b[39;00m \u001b[38;5;28;01mimport\u001b[39;00m LatentDirichletAllocation\n\u001b[0;32m      7\u001b[0m LDA \u001b[38;5;241m=\u001b[39m LatentDirichletAllocation(n_components\u001b[38;5;241m=\u001b[39m\u001b[38;5;241m5\u001b[39m, random_state\u001b[38;5;241m=\u001b[39m\u001b[38;5;241m42\u001b[39m)\n",
      "File \u001b[1;32m~\\AppData\\Roaming\\Python\\Python38\\site-packages\\sklearn\\feature_extraction\\text.py:1217\u001b[0m, in \u001b[0;36mCountVectorizer.fit_transform\u001b[1;34m(self, raw_documents, y)\u001b[0m\n\u001b[0;32m   1215\u001b[0m \u001b[38;5;28;01mif\u001b[39;00m max_features \u001b[38;5;129;01mis\u001b[39;00m \u001b[38;5;129;01mnot\u001b[39;00m \u001b[38;5;28;01mNone\u001b[39;00m:\n\u001b[0;32m   1216\u001b[0m     X \u001b[38;5;241m=\u001b[39m \u001b[38;5;28mself\u001b[39m\u001b[38;5;241m.\u001b[39m_sort_features(X, vocabulary)\n\u001b[1;32m-> 1217\u001b[0m X, \u001b[38;5;28mself\u001b[39m\u001b[38;5;241m.\u001b[39mstop_words_ \u001b[38;5;241m=\u001b[39m \u001b[38;5;28;43mself\u001b[39;49m\u001b[38;5;241;43m.\u001b[39;49m\u001b[43m_limit_features\u001b[49m\u001b[43m(\u001b[49m\u001b[43mX\u001b[49m\u001b[43m,\u001b[49m\u001b[43m \u001b[49m\u001b[43mvocabulary\u001b[49m\u001b[43m,\u001b[49m\n\u001b[0;32m   1218\u001b[0m \u001b[43m                                           \u001b[49m\u001b[43mmax_doc_count\u001b[49m\u001b[43m,\u001b[49m\n\u001b[0;32m   1219\u001b[0m \u001b[43m                                           \u001b[49m\u001b[43mmin_doc_count\u001b[49m\u001b[43m,\u001b[49m\n\u001b[0;32m   1220\u001b[0m \u001b[43m                                           \u001b[49m\u001b[43mmax_features\u001b[49m\u001b[43m)\u001b[49m\n\u001b[0;32m   1221\u001b[0m \u001b[38;5;28;01mif\u001b[39;00m max_features \u001b[38;5;129;01mis\u001b[39;00m \u001b[38;5;28;01mNone\u001b[39;00m:\n\u001b[0;32m   1222\u001b[0m     X \u001b[38;5;241m=\u001b[39m \u001b[38;5;28mself\u001b[39m\u001b[38;5;241m.\u001b[39m_sort_features(X, vocabulary)\n",
      "File \u001b[1;32m~\\AppData\\Roaming\\Python\\Python38\\site-packages\\sklearn\\feature_extraction\\text.py:1088\u001b[0m, in \u001b[0;36mCountVectorizer._limit_features\u001b[1;34m(self, X, vocabulary, high, low, limit)\u001b[0m\n\u001b[0;32m   1086\u001b[0m kept_indices \u001b[38;5;241m=\u001b[39m np\u001b[38;5;241m.\u001b[39mwhere(mask)[\u001b[38;5;241m0\u001b[39m]\n\u001b[0;32m   1087\u001b[0m \u001b[38;5;28;01mif\u001b[39;00m \u001b[38;5;28mlen\u001b[39m(kept_indices) \u001b[38;5;241m==\u001b[39m \u001b[38;5;241m0\u001b[39m:\n\u001b[1;32m-> 1088\u001b[0m     \u001b[38;5;28;01mraise\u001b[39;00m \u001b[38;5;167;01mValueError\u001b[39;00m(\u001b[38;5;124m\"\u001b[39m\u001b[38;5;124mAfter pruning, no terms remain. Try a lower\u001b[39m\u001b[38;5;124m\"\u001b[39m\n\u001b[0;32m   1089\u001b[0m                      \u001b[38;5;124m\"\u001b[39m\u001b[38;5;124m min_df or a higher max_df.\u001b[39m\u001b[38;5;124m\"\u001b[39m)\n\u001b[0;32m   1090\u001b[0m \u001b[38;5;28;01mreturn\u001b[39;00m X[:, kept_indices], removed_terms\n",
      "\u001b[1;31mValueError\u001b[0m: After pruning, no terms remain. Try a lower min_df or a higher max_df."
     ]
    }
   ],
   "source": [
    "from sklearn.feature_extraction.text import CountVectorizer\n",
    "\n",
    "count_vect = CountVectorizer(max_df=0.8, min_df=2, stop_words='english')\n",
    "doc_term_matrix = count_vect.fit_transform(p['Comment'].values.astype('U'))\n",
    "from sklearn.decomposition import LatentDirichletAllocation\n",
    "\n",
    "LDA = LatentDirichletAllocation(n_components=5, random_state=42)\n",
    "LDA.fit(doc_term_matrix)"
   ]
  },
  {
   "cell_type": "code",
   "execution_count": 12,
   "id": "90a1cf82",
   "metadata": {},
   "outputs": [
    {
     "ename": "NameError",
     "evalue": "name 'LDA' is not defined",
     "output_type": "error",
     "traceback": [
      "\u001b[1;31m---------------------------------------------------------------------------\u001b[0m",
      "\u001b[1;31mNameError\u001b[0m                                 Traceback (most recent call last)",
      "Input \u001b[1;32mIn [12]\u001b[0m, in \u001b[0;36m<cell line: 1>\u001b[1;34m()\u001b[0m\n\u001b[1;32m----> 1\u001b[0m first_topic \u001b[38;5;241m=\u001b[39m \u001b[43mLDA\u001b[49m\u001b[38;5;241m.\u001b[39mcomponents_[\u001b[38;5;241m0\u001b[39m]\n",
      "\u001b[1;31mNameError\u001b[0m: name 'LDA' is not defined"
     ]
    }
   ],
   "source": [
    "first_topic = LDA.components_[0]"
   ]
  },
  {
   "cell_type": "code",
   "execution_count": 23,
   "id": "3197de6b",
   "metadata": {},
   "outputs": [],
   "source": [
    "top_topic_words = first_topic.argsort()[-10:]"
   ]
  },
  {
   "cell_type": "code",
   "execution_count": 24,
   "id": "06844242",
   "metadata": {},
   "outputs": [
    {
     "name": "stdout",
     "output_type": "stream",
     "text": [
      "teflon\n",
      "use\n",
      "used\n",
      "safe\n",
      "thank\n",
      "cooking\n",
      "time\n",
      "video\n",
      "ceramic\n",
      "cookware\n"
     ]
    }
   ],
   "source": [
    "for i in top_topic_words:\n",
    "    print(count_vect.get_feature_names()[i])"
   ]
  },
  {
   "cell_type": "code",
   "execution_count": 25,
   "id": "c6ba5710",
   "metadata": {},
   "outputs": [
    {
     "name": "stdout",
     "output_type": "stream",
     "text": [
      "Top 10 words for topic #0:\n",
      "['teflon', 'use', 'used', 'safe', 'thank', 'cooking', 'time', 'video', 'ceramic', 'cookware']\n",
      "\n",
      "\n",
      "Top 10 words for topic #1:\n",
      "['stick', 'glass', 'safe', 'stainless', 'ceramic', 'grade', 'food', 'aluminum', 'iron', 'cast']\n",
      "\n",
      "\n",
      "Top 10 words for topic #2:\n",
      "['harmful', 'just', 'away', 'like', 'pan', 'safe', 'video', 'steel', 'glass', 'food']\n",
      "\n",
      "\n",
      "Top 10 words for topic #3:\n",
      "['best', 'cooking', 'pans', 'll', 'food', 'health', 'thank', 'using', 'foil', 'harmful']\n",
      "\n",
      "\n",
      "Top 10 words for topic #4:\n",
      "['thank', 'foil', 'harmful', 'think', 'just', 'saw', 'health', 'safe', 'copper', 'buy']\n",
      "\n",
      "\n"
     ]
    }
   ],
   "source": [
    "for i,topic in enumerate(LDA.components_):\n",
    "    print(f'Top 10 words for topic #{i}:')\n",
    "    print([count_vect.get_feature_names()[i] for i in topic.argsort()[-10:]])\n",
    "    print('\\n')"
   ]
  },
  {
   "cell_type": "code",
   "execution_count": 26,
   "id": "f4f24877",
   "metadata": {},
   "outputs": [
    {
     "data": {
      "text/plain": [
       "(20, 5)"
      ]
     },
     "execution_count": 26,
     "metadata": {},
     "output_type": "execute_result"
    }
   ],
   "source": [
    "topic_values = LDA.transform(doc_term_matrix)\n",
    "topic_values.shape"
   ]
  },
  {
   "cell_type": "code",
   "execution_count": 27,
   "id": "74a0a9ef",
   "metadata": {},
   "outputs": [],
   "source": [
    "p['Topic'] = topic_values.argmax(axis=1)"
   ]
  },
  {
   "cell_type": "code",
   "execution_count": 28,
   "id": "ec8a8a3c",
   "metadata": {},
   "outputs": [
    {
     "data": {
      "text/html": [
       "<div>\n",
       "<style scoped>\n",
       "    .dataframe tbody tr th:only-of-type {\n",
       "        vertical-align: middle;\n",
       "    }\n",
       "\n",
       "    .dataframe tbody tr th {\n",
       "        vertical-align: top;\n",
       "    }\n",
       "\n",
       "    .dataframe thead th {\n",
       "        text-align: right;\n",
       "    }\n",
       "</style>\n",
       "<table border=\"1\" class=\"dataframe\">\n",
       "  <thead>\n",
       "    <tr style=\"text-align: right;\">\n",
       "      <th></th>\n",
       "      <th>Comment</th>\n",
       "      <th>Likes</th>\n",
       "      <th>Time</th>\n",
       "      <th>UserLink</th>\n",
       "      <th>user</th>\n",
       "      <th>scores</th>\n",
       "      <th>compound</th>\n",
       "      <th>Topic</th>\n",
       "    </tr>\n",
       "  </thead>\n",
       "  <tbody>\n",
       "    <tr>\n",
       "      <th>0</th>\n",
       "      <td>TIMESTAMPSTeflon cookware 0:38Aluminum cookwar...</td>\n",
       "      <td>1.1K</td>\n",
       "      <td>4 years ago</td>\n",
       "      <td>https://www.youtube.com/channel/UC4rlAVgAK0SGk...</td>\n",
       "      <td></td>\n",
       "      <td>{'neg': 0.0, 'neu': 1.0, 'pos': 0.0, 'compound...</td>\n",
       "      <td>0.0000</td>\n",
       "      <td>0</td>\n",
       "    </tr>\n",
       "    <tr>\n",
       "      <th>1</th>\n",
       "      <td>After watching this video, you'll be consideri...</td>\n",
       "      <td>4.1K</td>\n",
       "      <td>2 years ago</td>\n",
       "      <td>NaN</td>\n",
       "      <td></td>\n",
       "      <td>{'neg': 0.0, 'neu': 1.0, 'pos': 0.0, 'compound...</td>\n",
       "      <td>0.0000</td>\n",
       "      <td>0</td>\n",
       "    </tr>\n",
       "    <tr>\n",
       "      <th>2</th>\n",
       "      <td>My great grandma used cast iron her whole life...</td>\n",
       "      <td>126</td>\n",
       "      <td>1 year ago</td>\n",
       "      <td>NaN</td>\n",
       "      <td></td>\n",
       "      <td>{'neg': 0.0, 'neu': 0.832, 'pos': 0.168, 'comp...</td>\n",
       "      <td>0.8442</td>\n",
       "      <td>2</td>\n",
       "    </tr>\n",
       "    <tr>\n",
       "      <th>3</th>\n",
       "      <td>Safe:-cast iron or enamel coated cast iron-gla...</td>\n",
       "      <td>774</td>\n",
       "      <td>1 year ago (edited)</td>\n",
       "      <td>NaN</td>\n",
       "      <td></td>\n",
       "      <td>{'neg': 0.0, 'neu': 1.0, 'pos': 0.0, 'compound...</td>\n",
       "      <td>0.0000</td>\n",
       "      <td>1</td>\n",
       "    </tr>\n",
       "    <tr>\n",
       "      <th>4</th>\n",
       "      <td>I’ll stick with my cast iron pans inherited fr...</td>\n",
       "      <td>578</td>\n",
       "      <td>10 months ago</td>\n",
       "      <td>NaN</td>\n",
       "      <td></td>\n",
       "      <td>{'neg': 0.0, 'neu': 0.819, 'pos': 0.181, 'comp...</td>\n",
       "      <td>0.6369</td>\n",
       "      <td>1</td>\n",
       "    </tr>\n",
       "    <tr>\n",
       "      <th>5</th>\n",
       "      <td>After seeing this I have started cooking direc...</td>\n",
       "      <td>97</td>\n",
       "      <td>1 year ago (edited)</td>\n",
       "      <td>NaN</td>\n",
       "      <td></td>\n",
       "      <td>{'neg': 0.118, 'neu': 0.882, 'pos': 0.0, 'comp...</td>\n",
       "      <td>-0.3400</td>\n",
       "      <td>0</td>\n",
       "    </tr>\n",
       "    <tr>\n",
       "      <th>6</th>\n",
       "      <td>I am using 100% ceramic cookware...the best in...</td>\n",
       "      <td>2</td>\n",
       "      <td>1 month ago (edited)</td>\n",
       "      <td>NaN</td>\n",
       "      <td></td>\n",
       "      <td>{'neg': 0.0, 'neu': 0.508, 'pos': 0.492, 'comp...</td>\n",
       "      <td>0.9118</td>\n",
       "      <td>0</td>\n",
       "    </tr>\n",
       "    <tr>\n",
       "      <th>7</th>\n",
       "      <td>SO basically Cast Iron, Glass, Food Grade Stai...</td>\n",
       "      <td>9.3K</td>\n",
       "      <td>4 years ago</td>\n",
       "      <td>NaN</td>\n",
       "      <td></td>\n",
       "      <td>{'neg': 0.115, 'neu': 0.609, 'pos': 0.277, 'co...</td>\n",
       "      <td>0.6739</td>\n",
       "      <td>1</td>\n",
       "    </tr>\n",
       "    <tr>\n",
       "      <th>8</th>\n",
       "      <td>Thank you ,here in Brazil you can easily buy c...</td>\n",
       "      <td>58</td>\n",
       "      <td>2 years ago</td>\n",
       "      <td>NaN</td>\n",
       "      <td></td>\n",
       "      <td>{'neg': 0.0, 'neu': 0.716, 'pos': 0.284, 'comp...</td>\n",
       "      <td>0.8779</td>\n",
       "      <td>0</td>\n",
       "    </tr>\n",
       "    <tr>\n",
       "      <th>9</th>\n",
       "      <td>I'm so glad I saw this video. I've been using ...</td>\n",
       "      <td>15</td>\n",
       "      <td>7 months ago</td>\n",
       "      <td>NaN</td>\n",
       "      <td></td>\n",
       "      <td>{'neg': 0.0, 'neu': 0.687, 'pos': 0.313, 'comp...</td>\n",
       "      <td>0.8610</td>\n",
       "      <td>2</td>\n",
       "    </tr>\n",
       "    <tr>\n",
       "      <th>10</th>\n",
       "      <td>Absolutely insane that it's even legal to sell...</td>\n",
       "      <td>257</td>\n",
       "      <td>1 year ago</td>\n",
       "      <td>NaN</td>\n",
       "      <td></td>\n",
       "      <td>{'neg': 0.222, 'neu': 0.667, 'pos': 0.111, 'co...</td>\n",
       "      <td>-0.3597</td>\n",
       "      <td>0</td>\n",
       "    </tr>\n",
       "    <tr>\n",
       "      <th>11</th>\n",
       "      <td>I feel like some finer details are missing... ...</td>\n",
       "      <td>82</td>\n",
       "      <td>2 years ago</td>\n",
       "      <td>NaN</td>\n",
       "      <td></td>\n",
       "      <td>{'neg': 0.086, 'neu': 0.876, 'pos': 0.038, 'co...</td>\n",
       "      <td>-0.4767</td>\n",
       "      <td>2</td>\n",
       "    </tr>\n",
       "    <tr>\n",
       "      <th>12</th>\n",
       "      <td>Growing up, my mum used Teflon cookware. Thank...</td>\n",
       "      <td>2</td>\n",
       "      <td>9 months ago</td>\n",
       "      <td>NaN</td>\n",
       "      <td></td>\n",
       "      <td>{'neg': 0.025, 'neu': 0.804, 'pos': 0.171, 'co...</td>\n",
       "      <td>0.8053</td>\n",
       "      <td>0</td>\n",
       "    </tr>\n",
       "    <tr>\n",
       "      <th>13</th>\n",
       "      <td>To Bright Side:  If I may give a suggestion on...</td>\n",
       "      <td>313</td>\n",
       "      <td>3 years ago</td>\n",
       "      <td>NaN</td>\n",
       "      <td></td>\n",
       "      <td>{'neg': 0.063, 'neu': 0.803, 'pos': 0.134, 'co...</td>\n",
       "      <td>0.7233</td>\n",
       "      <td>0</td>\n",
       "    </tr>\n",
       "    <tr>\n",
       "      <th>14</th>\n",
       "      <td>I just bought the Copper Chef Black Diamond. I...</td>\n",
       "      <td>137</td>\n",
       "      <td>1 year ago</td>\n",
       "      <td>NaN</td>\n",
       "      <td></td>\n",
       "      <td>{'neg': 0.16, 'neu': 0.809, 'pos': 0.031, 'com...</td>\n",
       "      <td>-0.8024</td>\n",
       "      <td>4</td>\n",
       "    </tr>\n",
       "    <tr>\n",
       "      <th>15</th>\n",
       "      <td>1. teflon cookware\\n2. aluminium cookware &amp; fo...</td>\n",
       "      <td>1</td>\n",
       "      <td>2 years ago</td>\n",
       "      <td>NaN</td>\n",
       "      <td></td>\n",
       "      <td>{'neg': 0.132, 'neu': 0.794, 'pos': 0.075, 'co...</td>\n",
       "      <td>-0.1280</td>\n",
       "      <td>0</td>\n",
       "    </tr>\n",
       "    <tr>\n",
       "      <th>16</th>\n",
       "      <td>I was wondering if a cast aluminum chimninea g...</td>\n",
       "      <td>0</td>\n",
       "      <td>2 months ago</td>\n",
       "      <td>NaN</td>\n",
       "      <td></td>\n",
       "      <td>{'neg': 0.0, 'neu': 0.908, 'pos': 0.092, 'comp...</td>\n",
       "      <td>0.6597</td>\n",
       "      <td>1</td>\n",
       "    </tr>\n",
       "    <tr>\n",
       "      <th>17</th>\n",
       "      <td>Thank you for taking the time to go through th...</td>\n",
       "      <td>8</td>\n",
       "      <td>1 year ago</td>\n",
       "      <td>NaN</td>\n",
       "      <td></td>\n",
       "      <td>{'neg': 0.0, 'neu': 0.531, 'pos': 0.469, 'comp...</td>\n",
       "      <td>0.8914</td>\n",
       "      <td>0</td>\n",
       "    </tr>\n",
       "    <tr>\n",
       "      <th>18</th>\n",
       "      <td>PTFE is not as dangerous as this video makes i...</td>\n",
       "      <td>2</td>\n",
       "      <td>1 year ago</td>\n",
       "      <td>NaN</td>\n",
       "      <td></td>\n",
       "      <td>{'neg': 0.052, 'neu': 0.902, 'pos': 0.046, 'co...</td>\n",
       "      <td>0.1665</td>\n",
       "      <td>2</td>\n",
       "    </tr>\n",
       "    <tr>\n",
       "      <th>19</th>\n",
       "      <td>Let's face it. Living can be hazardous to your...</td>\n",
       "      <td>1.2K</td>\n",
       "      <td>2 years ago</td>\n",
       "      <td>NaN</td>\n",
       "      <td></td>\n",
       "      <td>{'neg': 0.0, 'neu': 1.0, 'pos': 0.0, 'compound...</td>\n",
       "      <td>0.0000</td>\n",
       "      <td>4</td>\n",
       "    </tr>\n",
       "  </tbody>\n",
       "</table>\n",
       "</div>"
      ],
      "text/plain": [
       "                                              Comment Likes  \\\n",
       "0   TIMESTAMPSTeflon cookware 0:38Aluminum cookwar...  1.1K   \n",
       "1   After watching this video, you'll be consideri...  4.1K   \n",
       "2   My great grandma used cast iron her whole life...   126   \n",
       "3   Safe:-cast iron or enamel coated cast iron-gla...   774   \n",
       "4   I’ll stick with my cast iron pans inherited fr...   578   \n",
       "5   After seeing this I have started cooking direc...    97   \n",
       "6   I am using 100% ceramic cookware...the best in...     2   \n",
       "7   SO basically Cast Iron, Glass, Food Grade Stai...  9.3K   \n",
       "8   Thank you ,here in Brazil you can easily buy c...    58   \n",
       "9   I'm so glad I saw this video. I've been using ...    15   \n",
       "10  Absolutely insane that it's even legal to sell...   257   \n",
       "11  I feel like some finer details are missing... ...    82   \n",
       "12  Growing up, my mum used Teflon cookware. Thank...     2   \n",
       "13  To Bright Side:  If I may give a suggestion on...   313   \n",
       "14  I just bought the Copper Chef Black Diamond. I...   137   \n",
       "15  1. teflon cookware\\n2. aluminium cookware & fo...     1   \n",
       "16  I was wondering if a cast aluminum chimninea g...     0   \n",
       "17  Thank you for taking the time to go through th...     8   \n",
       "18  PTFE is not as dangerous as this video makes i...     2   \n",
       "19  Let's face it. Living can be hazardous to your...  1.2K   \n",
       "\n",
       "                    Time                                           UserLink  \\\n",
       "0            4 years ago  https://www.youtube.com/channel/UC4rlAVgAK0SGk...   \n",
       "1            2 years ago                                                NaN   \n",
       "2             1 year ago                                                NaN   \n",
       "3    1 year ago (edited)                                                NaN   \n",
       "4          10 months ago                                                NaN   \n",
       "5    1 year ago (edited)                                                NaN   \n",
       "6   1 month ago (edited)                                                NaN   \n",
       "7            4 years ago                                                NaN   \n",
       "8            2 years ago                                                NaN   \n",
       "9           7 months ago                                                NaN   \n",
       "10            1 year ago                                                NaN   \n",
       "11           2 years ago                                                NaN   \n",
       "12          9 months ago                                                NaN   \n",
       "13           3 years ago                                                NaN   \n",
       "14            1 year ago                                                NaN   \n",
       "15           2 years ago                                                NaN   \n",
       "16          2 months ago                                                NaN   \n",
       "17            1 year ago                                                NaN   \n",
       "18            1 year ago                                                NaN   \n",
       "19           2 years ago                                                NaN   \n",
       "\n",
       "   user                                             scores  compound  Topic  \n",
       "0        {'neg': 0.0, 'neu': 1.0, 'pos': 0.0, 'compound...    0.0000      0  \n",
       "1        {'neg': 0.0, 'neu': 1.0, 'pos': 0.0, 'compound...    0.0000      0  \n",
       "2        {'neg': 0.0, 'neu': 0.832, 'pos': 0.168, 'comp...    0.8442      2  \n",
       "3        {'neg': 0.0, 'neu': 1.0, 'pos': 0.0, 'compound...    0.0000      1  \n",
       "4        {'neg': 0.0, 'neu': 0.819, 'pos': 0.181, 'comp...    0.6369      1  \n",
       "5        {'neg': 0.118, 'neu': 0.882, 'pos': 0.0, 'comp...   -0.3400      0  \n",
       "6        {'neg': 0.0, 'neu': 0.508, 'pos': 0.492, 'comp...    0.9118      0  \n",
       "7        {'neg': 0.115, 'neu': 0.609, 'pos': 0.277, 'co...    0.6739      1  \n",
       "8        {'neg': 0.0, 'neu': 0.716, 'pos': 0.284, 'comp...    0.8779      0  \n",
       "9        {'neg': 0.0, 'neu': 0.687, 'pos': 0.313, 'comp...    0.8610      2  \n",
       "10       {'neg': 0.222, 'neu': 0.667, 'pos': 0.111, 'co...   -0.3597      0  \n",
       "11       {'neg': 0.086, 'neu': 0.876, 'pos': 0.038, 'co...   -0.4767      2  \n",
       "12       {'neg': 0.025, 'neu': 0.804, 'pos': 0.171, 'co...    0.8053      0  \n",
       "13       {'neg': 0.063, 'neu': 0.803, 'pos': 0.134, 'co...    0.7233      0  \n",
       "14       {'neg': 0.16, 'neu': 0.809, 'pos': 0.031, 'com...   -0.8024      4  \n",
       "15       {'neg': 0.132, 'neu': 0.794, 'pos': 0.075, 'co...   -0.1280      0  \n",
       "16       {'neg': 0.0, 'neu': 0.908, 'pos': 0.092, 'comp...    0.6597      1  \n",
       "17       {'neg': 0.0, 'neu': 0.531, 'pos': 0.469, 'comp...    0.8914      0  \n",
       "18       {'neg': 0.052, 'neu': 0.902, 'pos': 0.046, 'co...    0.1665      2  \n",
       "19       {'neg': 0.0, 'neu': 1.0, 'pos': 0.0, 'compound...    0.0000      4  "
      ]
     },
     "execution_count": 28,
     "metadata": {},
     "output_type": "execute_result"
    }
   ],
   "source": [
    "p"
   ]
  },
  {
   "cell_type": "code",
   "execution_count": null,
   "id": "ced7cfca",
   "metadata": {},
   "outputs": [],
   "source": []
  }
 ],
 "metadata": {
  "kernelspec": {
   "display_name": "Python 3 (ipykernel)",
   "language": "python",
   "name": "python3"
  },
  "language_info": {
   "codemirror_mode": {
    "name": "ipython",
    "version": 3
   },
   "file_extension": ".py",
   "mimetype": "text/x-python",
   "name": "python",
   "nbconvert_exporter": "python",
   "pygments_lexer": "ipython3",
   "version": "3.8.12"
  }
 },
 "nbformat": 4,
 "nbformat_minor": 5
}
